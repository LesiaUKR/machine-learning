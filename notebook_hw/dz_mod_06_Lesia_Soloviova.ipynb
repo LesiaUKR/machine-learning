{
 "cells": [
  {
   "cell_type": "code",
   "execution_count": 1,
   "metadata": {},
   "outputs": [],
   "source": [
    "# 1. Здійснюємо імпорт необхідних пакетів.\n",
    "import pandas as pd\n",
    "import numpy as np\n",
    "from sklearn.preprocessing import StandardScaler, OneHotEncoder\n",
    "from sklearn.linear_model import LogisticRegression\n",
    "from sklearn.metrics import classification_report\n",
    "from sklearn.impute import SimpleImputer\n",
    "from scipy.sparse import hstack\n"
   ]
  },
  {
   "cell_type": "code",
   "execution_count": 2,
   "metadata": {},
   "outputs": [
    {
     "name": "stdout",
     "output_type": "stream",
     "text": [
      "Загальна кількість рядків і стовпців у датасеті: (145460, 23)\n"
     ]
    }
   ],
   "source": [
    "\n",
    "# 2. Завантаження даних: читання даних із файлу CSV\n",
    "# Метод shape показує кількість рядків і стовпців у датасеті.\n",
    "\n",
    "data = pd.read_csv('../datasets/weatherAUS.csv')\n",
    "print('Загальна кількість рядків і стовпців у датасеті:', data.shape)"
   ]
  },
  {
   "cell_type": "code",
   "execution_count": 3,
   "metadata": {},
   "outputs": [
    {
     "name": "stdout",
     "output_type": "stream",
     "text": [
      "Загальна кількість рядків і стовпців у датасеті після\n",
      "видалення ознак із великою кількістю пропущених значень: (142193, 19)\n"
     ]
    }
   ],
   "source": [
    "\n",
    "# 3.1 Видалення колонок з більше ніж 35% пропусків та рядків \n",
    "# без значення 'RainTomorrow'\n",
    "data = data[data.columns[data.isna().mean().lt(0.35)]]\n",
    "data = data.dropna(subset='RainTomorrow')\n",
    "print('''Загальна кількість рядків і стовпців у датасеті після\n",
    "видалення ознак із великою кількістю пропущених значень:''', data.shape)"
   ]
  },
  {
   "cell_type": "code",
   "execution_count": 4,
   "metadata": {},
   "outputs": [],
   "source": [
    "\n",
    "# 3.2 Зміна типу колонки Date на тип datetime і створення\n",
    "# додаткових колонок Year та Month\n",
    "\n",
    "data['Date'] = pd.to_datetime(data['Date'])\n",
    "data['Year'] = data['Date'].dt.year\n",
    "data['Month'] = data['Date'].dt.month\n",
    "data = data.drop('Date', axis=1)"
   ]
  },
  {
   "cell_type": "code",
   "execution_count": 5,
   "metadata": {},
   "outputs": [],
   "source": [
    "\n",
    "# 3.3 Створення підмножини набору даних із числовими та категоріальними ознаками\n",
    "numeric_features = data.select_dtypes(include=[np.number]).columns.tolist()\n",
    "categorical_features = data.select_dtypes(include=[object]).columns.tolist()"
   ]
  },
  {
   "cell_type": "code",
   "execution_count": 6,
   "metadata": {},
   "outputs": [],
   "source": [
    "\n",
    "# 3.4 Переміщення колонки Month до підмножини категоріальних ознак та видалення\n",
    "# колонки Month із numeric_features. Колонка Year вже знаходиться в \n",
    "# numeric_features, бо перетворення колонки Date відбувалось безпосередньо \n",
    "# в DataFrame data\n",
    "\n",
    "if 'Month' in numeric_features:\n",
    "    numeric_features.remove('Month')  # Видаляємо 'Year' із категоріальних ознак\n",
    "if 'Month' not in categorical_features:\n",
    "    categorical_features.append('Month')  # Додаємо 'Year' до числових ознак"
   ]
  },
  {
   "cell_type": "code",
   "execution_count": 7,
   "metadata": {},
   "outputs": [
    {
     "name": "stdout",
     "output_type": "stream",
     "text": [
      "Тренувальні дані: (133727, 20)\n",
      "Тестові дані: (8466, 20)\n"
     ]
    }
   ],
   "source": [
    "# 3.5 Розбиття підмножини на тренувальну і тестову вибірки за такою логікою: \n",
    "# до тестової вибірки відносимо всі об'єкти із набору даних із останнім \n",
    "# (максимальним) роком спостережень, а для навчання моделі залишаємо всі \n",
    "# інші об'єкти.\n",
    "\n",
    "# Знайдемо максимальний рік\n",
    "max_year = data['Year'].max()\n",
    "\n",
    "# Розбиття даних на тренувальну і тестову вибірки\n",
    "train_data = data[data['Year'] < max_year].copy()\n",
    "test_data = data[data['Year'] == max_year].copy()\n",
    "\n",
    "# Перевірка наявності 'RainTomorrow' у вхідних даних\n",
    "if 'RainTomorrow' in numeric_features:\n",
    "    numeric_features.remove('RainTomorrow')\n",
    "if 'RainTomorrow' in categorical_features:\n",
    "    categorical_features.remove('RainTomorrow')\n",
    "\n",
    "# Перевірка кількості рядків у тренувальній і тестовій вибірках\n",
    "print(\"Тренувальні дані:\", train_data.shape)\n",
    "print(\"Тестові дані:\", test_data.shape)"
   ]
  },
  {
   "cell_type": "code",
   "execution_count": 8,
   "metadata": {},
   "outputs": [
    {
     "name": "stdout",
     "output_type": "stream",
     "text": [
      "Пропущені значення у числових ознаках після імпутації (тренувальні дані):\n",
      "MinTemp          0\n",
      "MaxTemp          0\n",
      "Rainfall         0\n",
      "WindGustSpeed    0\n",
      "WindSpeed9am     0\n",
      "WindSpeed3pm     0\n",
      "Humidity9am      0\n",
      "Humidity3pm      0\n",
      "Pressure9am      0\n",
      "Pressure3pm      0\n",
      "Temp9am          0\n",
      "Temp3pm          0\n",
      "Year             0\n",
      "dtype: int64\n",
      "\n",
      "Пропущені значення у числових ознаках після імпутації (тестові дані):\n",
      "MinTemp          0\n",
      "MaxTemp          0\n",
      "Rainfall         0\n",
      "WindGustSpeed    0\n",
      "WindSpeed9am     0\n",
      "WindSpeed3pm     0\n",
      "Humidity9am      0\n",
      "Humidity3pm      0\n",
      "Pressure9am      0\n",
      "Pressure3pm      0\n",
      "Temp9am          0\n",
      "Temp3pm          0\n",
      "Year             0\n",
      "dtype: int64\n"
     ]
    }
   ],
   "source": [
    "\n",
    "# 4. Відновлення пропущених даних за допомогою SimpleImputer\n",
    "\n",
    "# Перевірка та обробка пропущених значень у цільовій змінній\n",
    "train_data = train_data.dropna(subset=['RainTomorrow'])\n",
    "test_data = test_data.dropna(subset=['RainTomorrow'])\n",
    "\n",
    "imputer = SimpleImputer(strategy='mean')\n",
    "train_data[numeric_features] = imputer.fit_transform(train_data[numeric_features])\n",
    "test_data[numeric_features] = imputer.transform(test_data[numeric_features])\n",
    "\n",
    "# Перевірка на наявність пропущених значень після імпутації у тренувальних даних\n",
    "print(\"Пропущені значення у числових ознаках після імпутації (тренувальні дані):\")\n",
    "print(train_data[numeric_features].isna().sum())\n",
    "\n",
    "# Перевірка на наявність пропущених значень після імпутації у тестових даних\n",
    "print(\"\\nПропущені значення у числових ознаках після імпутації (тестові дані):\")\n",
    "print(test_data[numeric_features].isna().sum())"
   ]
  },
  {
   "cell_type": "code",
   "execution_count": 9,
   "metadata": {},
   "outputs": [],
   "source": [
    "\n",
    "# 5. Нормалізація числових ознак за допомогою StandardScaler\n",
    "\n",
    "scaler = StandardScaler()\n",
    "train_data[numeric_features] = scaler.fit_transform(train_data[numeric_features])\n",
    "test_data[numeric_features] = scaler.transform(test_data[numeric_features])"
   ]
  },
  {
   "cell_type": "code",
   "execution_count": 10,
   "metadata": {},
   "outputs": [
    {
     "name": "stdout",
     "output_type": "stream",
     "text": [
      "              precision    recall  f1-score   support\n",
      "\n",
      "          No       0.92      0.82      0.87      6703\n",
      "         Yes       0.51      0.73      0.60      1763\n",
      "\n",
      "    accuracy                           0.80      8466\n",
      "   macro avg       0.72      0.77      0.73      8466\n",
      "weighted avg       0.84      0.80      0.81      8466\n",
      "\n"
     ]
    },
    {
     "data": {
      "text/plain": [
       "'ВИСНОВКИ:\\n    \\n- Покращення для класу \"No\":\\nНова модель показує покращені метрики для класу \"No\", особливо в частині Recall \\n(з 0.79 до 0.82). Це означає, що модель тепер краще ідентифікує випадки \\nвідсутності дощу, що позитивно впливає на точність для цього класу.\\n\\n- Стабільність для класу \"Yes\":\\nPrecision для класу \"Yes\" залишається на тому ж рівні, але Recall трохи \\nзнизився. Це може бути результатом того, що модель зосереджена на покращенні \\nпередбачення класу \"No\", що може мати негативний вплив на менш поширений \\nклас \"Yes\".\\n\\n- Збалансованість моделі:\\nНова модель виглядає більш збалансованою щодо передбачення обох класів, але \\nпокращення для класу \"Yes\" незначні або відсутні, що свідчить про те, що модель\\nще потребує додаткового балансування або інших методів для роботи\\nз класом меншості.\\n\\n- Потреба в балансуванні:\\nНезважаючи на невелике загальне покращення, модель ще може виграти від \\nвикористання технік, таких як oversampling або SMOTE, щоб підвищити точність \\nта здатність розпізнавати дощ.\\n\\nОтже, нова модель продемонструвала покращення для класу \"No\", але \\nпродуктивність для класу \"Yes\" залишилась на тому ж рівні або навіть трохи \\nпогіршилась.'"
      ]
     },
     "execution_count": 10,
     "metadata": {},
     "output_type": "execute_result"
    }
   ],
   "source": [
    "\n",
    "# 6. Кодування категоріальних ознак за допомогою OneHotEncoder\n",
    "\n",
    "encoder = OneHotEncoder(sparse_output=True, handle_unknown='ignore')\n",
    "train_categorical = encoder.fit_transform(train_data[categorical_features])\n",
    "test_categorical = encoder.transform(test_data[categorical_features])\n",
    "\n",
    "#%%\n",
    "# 7. Об'єднання підмножин\n",
    "\n",
    "# Перевірка розмірності перед об'єднанням\n",
    "X_train_numeric = train_data[numeric_features].values\n",
    "X_test_numeric = test_data[numeric_features].values\n",
    "\n",
    "# Об'єднання ознак\n",
    "X_train = hstack([X_train_numeric, train_categorical])\n",
    "X_test = hstack([X_test_numeric, test_categorical])\n",
    "\n",
    "# Цільова змінна\n",
    "y_train = train_data['RainTomorrow'].values\n",
    "y_test = test_data['RainTomorrow'].values\n",
    "\n",
    "\n",
    "#%%\n",
    "\n",
    "# 8. Розрахунок метрик нової моделі за допомогою classification_report()\n",
    "\n",
    "model = LogisticRegression(solver='liblinear', class_weight='balanced', random_state=42)\n",
    "model.fit(X_train, y_train)\n",
    "\n",
    "# Прогнозування та оцінка моделі\n",
    "y_pred = model.predict(X_test)\n",
    "print(classification_report(y_test, y_pred))\n",
    "\n",
    "#%%\n",
    "'''ВИСНОВКИ:\n",
    "    \n",
    "- Покращення для класу \"No\":\n",
    "Нова модель показує покращені метрики для класу \"No\", особливо в частині Recall \n",
    "(з 0.79 до 0.82). Це означає, що модель тепер краще ідентифікує випадки \n",
    "відсутності дощу, що позитивно впливає на точність для цього класу.\n",
    "\n",
    "- Стабільність для класу \"Yes\":\n",
    "Precision для класу \"Yes\" залишається на тому ж рівні, але Recall трохи \n",
    "знизився. Це може бути результатом того, що модель зосереджена на покращенні \n",
    "передбачення класу \"No\", що може мати негативний вплив на менш поширений \n",
    "клас \"Yes\".\n",
    "\n",
    "- Збалансованість моделі:\n",
    "Нова модель виглядає більш збалансованою щодо передбачення обох класів, але \n",
    "покращення для класу \"Yes\" незначні або відсутні, що свідчить про те, що модель\n",
    "ще потребує додаткового балансування або інших методів для роботи\n",
    "з класом меншості.\n",
    "\n",
    "- Потреба в балансуванні:\n",
    "Незважаючи на невелике загальне покращення, модель ще може виграти від \n",
    "використання технік, таких як oversampling або SMOTE, щоб підвищити точність \n",
    "та здатність розпізнавати дощ.\n",
    "\n",
    "Отже, нова модель продемонструвала покращення для класу \"No\", але \n",
    "продуктивність для класу \"Yes\" залишилась на тому ж рівні або навіть трохи \n",
    "погіршилась.'''\n",
    "\n",
    "\n",
    "\n",
    "\n",
    "\n",
    "\n"
   ]
  },
  {
   "cell_type": "code",
   "execution_count": null,
   "metadata": {},
   "outputs": [],
   "source": []
  }
 ],
 "metadata": {
  "anaconda-cloud": {},
  "kernelspec": {
   "display_name": "Python 3 (Spyder)",
   "language": "python3",
   "name": "python3"
  },
  "language_info": {
   "codemirror_mode": {
    "name": "ipython",
    "version": 3
   },
   "file_extension": ".py",
   "mimetype": "text/x-python",
   "name": "python",
   "nbconvert_exporter": "python",
   "pygments_lexer": "ipython3",
   "version": "3.11.10"
  }
 },
 "nbformat": 4,
 "nbformat_minor": 4
}
